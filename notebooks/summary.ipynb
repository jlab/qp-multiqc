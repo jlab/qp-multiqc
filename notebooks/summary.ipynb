{
 "cells": [
  {
   "cell_type": "code",
   "execution_count": null,
   "id": "75f6fc95",
   "metadata": {},
   "outputs": [
    {
     "data": {
      "text/plain": [
       "'/home/tobias/Praktikum_Janssen/Multiqc/summary.html'"
      ]
     },
     "execution_count": 4,
     "metadata": {},
     "output_type": "execute_result"
    }
   ],
   "source": [
    "\n",
    "from os.path import exists, isdir, join, dirname\n",
    "import os\n",
    "# import glob\n",
    "\n",
    "# multiqc_outdir = os.path.expanduser(\"~/Praktikum_Janssen/Multiqc\")\n",
    "\n",
    "def generate_summary_html(outdir):\n",
    "    if exists(outdir) and isdir(outdir):\n",
    "        html_file = join(outdir, \"summary.html\")\n",
    "        html_content = \"\"\"\n",
    "<!DOCTYPE html>\n",
    "<html>\n",
    "<head>\n",
    "    <meta charset=\"UTF-8\">\n",
    "    <title>Summary</title>\n",
    "    <style>\n",
    "        html, body {\n",
    "            margin: 0;\n",
    "            height: 100%;\n",
    "            display: flex;\n",
    "            flex-direction: column;\n",
    "        }\n",
    "        h1 {\n",
    "            margin: 0;\n",
    "            padding: 1rem;\n",
    "            background-color: #f0f0f0;\n",
    "            font-family: sans-serif;\n",
    "        }\n",
    "        iframe {\n",
    "            flex: 1;\n",
    "            width: 100%;\n",
    "            border: none;\n",
    "        }\n",
    "    </style>\n",
    "</head>\n",
    "<body>\n",
    "    <h1>Summary</h1>\n",
    "    <iframe src=\"multiqc_report.html\"></iframe>\n",
    "</body>\n",
    "</html>\n",
    "\"\"\"\n",
    "        with open(html_file, \"w\") as f:\n",
    "            f.write(html_content)\n",
    "        return html_file\n",
    "    return None\n",
    "\n",
    "# generate_summary_html(multiqc_outdir)\n",
    "    \n"
   ]
  }
 ],
 "metadata": {
  "kernelspec": {
   "display_name": "qiita-files",
   "language": "python",
   "name": "python3"
  },
  "language_info": {
   "codemirror_mode": {
    "name": "ipython",
    "version": 3
   },
   "file_extension": ".py",
   "mimetype": "text/x-python",
   "name": "python",
   "nbconvert_exporter": "python",
   "pygments_lexer": "ipython3",
   "version": "3.6.13"
  }
 },
 "nbformat": 4,
 "nbformat_minor": 5
}
