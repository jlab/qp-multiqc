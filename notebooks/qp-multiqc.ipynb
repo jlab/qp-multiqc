{
 "cells": [
  {
   "cell_type": "code",
   "execution_count": null,
   "metadata": {},
   "outputs": [
    {
     "name": "stdout",
     "output_type": "stream",
     "text": [
      "✅ FastQC abgeschlossen. Ausgabedateien befinden sich in: /home/tobias/Praktikum_Janssen/Fastqc\n",
      "✅ MultiQC abgeschlossen. Ausgabedateien befinden sich in: /home/tobias/Praktikum_Janssen/Multiqc\n",
      "🧹 Aufräumen abgeschlossen – nur MultiQC-Ergebnisse wurden behalten.\n"
     ]
    }
   ],
   "source": [
    "import os\n",
    "import glob\n",
    "import shutil\n",
    "import subprocess\n",
    "import qiita_files\n",
    "from qiita_files.demux import to_per_sample_files\n",
    "\n",
    "# set variables\n",
    "base_dir = os.path.expanduser(\"~/Praktikum_Janssen\")\n",
    "demux = os.path.join(base_dir, \"TestDemux\", \"seqs.demux\")\n",
    "out_dir = os.path.join(base_dir, \"TestOutDir\")\n",
    "fastqc_outdir = os.path.join(base_dir, \"Fastqc\")\n",
    "multiqc_outdir = os.path.join(base_dir, \"Multiqc\")\n",
    "\n",
    "# conda environments\n",
    "fastqc_env=\"fastqc\"\n",
    "multiqc_env=\"multiqc\"\n",
    "\n",
    "# TODO: check fastq format\n",
    "#       if not fastq exit plugin\n",
    "#       fastqc runs only on fastq files\n",
    "\n",
    "# split demux into fastx-files\n",
    "n_jobs=1\n",
    "out_format=\"fastq\"\n",
    "to_per_sample_files(demux, samples=None, out_dir=out_dir, n_jobs=n_jobs, out_format=out_format)\n",
    "\n",
    "# run fastqc/multiqc\n",
    "\n",
    "# path to input fastqc_files\n",
    "fastqc_indir=out_dir\n",
    "suffixes = (\"*.fastq\", \"*.fq\", \"*.fastq.gz\", \"*.fq.gz\")\n",
    "fastqc_files=[f for pattern in suffixes for f in glob.glob(f\"{fastqc_indir}/{pattern}\")]\n",
    "# testcase print(fastqc_files)\n",
    "\n",
    "# 1. create output dir\n",
    "os.makedirs(fastqc_outdir, exist_ok=True)\n",
    "\n",
    "# 2. run fastqc in conda env\n",
    "for file in fastqc_files:\n",
    "    subprocess.run([\"conda\", \"run\", \"-n\", fastqc_env, \"fastqc\", file, \"--outdir\", fastqc_outdir], check=True)\n",
    "print(f\"✅ FastQC abgeschlossen. Ausgabedateien befinden sich in: {fastqc_outdir}\")\n",
    "\n",
    "# output folder multiqc\n",
    "multiqc_outdir=os.path.expanduser(\"~/Praktikum_Janssen/Multiqc\")\n",
    "multiqc_indir=fastqc_outdir\n",
    "\n",
    "# 3. run multiqc in conda env\n",
    "subprocess.run([\"conda\", \"run\", \"-n\", multiqc_env, \"multiqc\", \"-o\",multiqc_outdir, multiqc_indir], check=True)\n",
    "print(f\"✅ MultiQC abgeschlossen. Ausgabedateien befinden sich in: {multiqc_outdir}\")\n",
    "\n",
    "# 4. Aufräumen – FASTQ-Dateien löschen\n",
    "for f in fastqc_files:\n",
    "    try:\n",
    "        os.remove(f)\n",
    "    except OSError as e:\n",
    "        print(f\"⚠️ Fehler beim Löschen von {f}: {e}\")\n",
    "\n",
    "# 5. Aufräumen – FastQC-Reports löschen\n",
    "for report in glob.glob(f\"{fastqc_outdir}/*_fastqc.*\"):\n",
    "    try:\n",
    "        os.remove(report)\n",
    "    except OSError as e:\n",
    "        print(f\"⚠️ Fehler beim Löschen von {report}: {e}\")\n",
    "\n",
    "# (Optional) FastQC-Ausgabeordner selbst löschen, falls du nichts behalten willst:\n",
    "try:\n",
    "    os.rmdir(fastqc_outdir)\n",
    "except OSError:\n",
    "    pass  # wird ignoriert, falls Ordner nicht leer ist oder bereits gelöscht wurde\n",
    "\n",
    "print(\"🧹 Aufräumen abgeschlossen – nur MultiQC-Ergebnisse wurden behalten.\")\n",
    "\n",
    "\n"
   ]
  },
  {
   "cell_type": "code",
   "execution_count": 14,
   "metadata": {},
   "outputs": [
    {
     "name": "stdout",
     "output_type": "stream",
     "text": [
      "Die Datei enthält FASTQ-Daten.\n"
     ]
    }
   ],
   "source": [
    "import h5py\n",
    "\n",
    "def get_file_format(demux_path):\n",
    "    \"\"\"Gibt das Format der HDF5-Datei zurück (fastq oder fasta).\n",
    "\n",
    "    Parameter\n",
    "    ----------\n",
    "    demux_path : str\n",
    "        Pfad zur HDF5-Demux-Datei (.demux)\n",
    "\n",
    "    Rückgabewert\n",
    "    -------\n",
    "    str\n",
    "        \"fastq\" für FASTQ-Daten, \"fasta\" für FASTA-Daten\n",
    "    \"\"\"\n",
    "    with h5py.File(demux_path, 'r') as f:\n",
    "        # Überprüfen, ob das Attribut 'has-qual' existiert und True ist\n",
    "        if f.attrs.get('has-qual', False):\n",
    "            return \"fastq\"\n",
    "        else:\n",
    "            return \"fasta\"\n",
    "\n",
    "file_format = get_file_format(demux)\n",
    "print(f\"Die Datei enthält {file_format.upper()}-Daten.\")\n"
   ]
  }
 ],
 "metadata": {
  "kernelspec": {
   "display_name": "qiita-files",
   "language": "python",
   "name": "python3"
  },
  "language_info": {
   "codemirror_mode": {
    "name": "ipython",
    "version": 3
   },
   "file_extension": ".py",
   "mimetype": "text/x-python",
   "name": "python",
   "nbconvert_exporter": "python",
   "pygments_lexer": "ipython3",
   "version": "3.6.13"
  }
 },
 "nbformat": 4,
 "nbformat_minor": 2
}
